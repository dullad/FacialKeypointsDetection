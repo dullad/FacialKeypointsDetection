{
 "cells": [
  {
   "cell_type": "code",
   "execution_count": 1,
   "id": "ceb751c8",
   "metadata": {},
   "outputs": [],
   "source": [
    "import numpy as np\n",
    "import matplotlib.pyplot as plt\n",
    "import pandas as pd\n",
    "from IPython.display import clear_output\n",
    "from time import sleep\n",
    "import os"
   ]
  },
  {
   "cell_type": "code",
   "execution_count": null,
   "id": "963693fc",
   "metadata": {},
   "outputs": [],
   "source": [
    "Train_Dir = 'input/training/training.csv'\n",
    "Test_Dir = 'input/test/test.csv'\n",
    "lookid_dir = 'input/IdLookupTable.csv'"
   ]
  }
 ],
 "metadata": {
  "kernelspec": {
   "display_name": "fkd_env",
   "language": "python",
   "name": "python3"
  },
  "language_info": {
   "codemirror_mode": {
    "name": "ipython",
    "version": 3
   },
   "file_extension": ".py",
   "mimetype": "text/x-python",
   "name": "python",
   "nbconvert_exporter": "python",
   "pygments_lexer": "ipython3",
   "version": "3.9.23"
  }
 },
 "nbformat": 4,
 "nbformat_minor": 5
}
